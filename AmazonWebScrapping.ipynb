{
 "cells": [
  {
   "cell_type": "markdown",
   "metadata": {},
   "source": [
    "<center>\n",
    "    <img src=\"https://cf-courses-data.s3.us.cloud-object-storage.appdomain.cloud/IBMDeveloperSkillsNetwork-PY0220EN-SkillsNetwork/labs/project/Images/SN_logo.png\" width=\"300\" alt=\"cognitiveclass.ai logo\"  />\n",
    "</center>\n"
   ]
  },
  {
   "cell_type": "markdown",
   "metadata": {},
   "source": [
    "<h1>Extracting Stock Data Using a Web Scraping</h1>\n"
   ]
  },
  {
   "cell_type": "markdown",
   "metadata": {},
   "source": [
    "Not all stock data is available via API in this assignment; you will use web-scraping to obtain financial data. You will be quizzed on your results.\\\n",
    "Using beautiful soup we will extract historical share data from a web-page.\n"
   ]
  },
  {
   "cell_type": "markdown",
   "metadata": {},
   "source": [
    "<h2>Table of Contents</h2>\n",
    "<div class=\"alert alert-block alert-info\" style=\"margin-top: 20px\">\n",
    "    <ul>\n",
    "        <li>Downloading the Webpage Using Requests Library</li>\n",
    "        <li>Parsing Webpage HTML Using BeautifulSoup</li>\n",
    "        <li>Extracting Data and Building DataFrame</li>\n",
    "    </ul>\n",
    "<p>\n",
    "    Estimated Time Needed: <strong>30 min</strong></p>\n",
    "</div>\n",
    "\n",
    "<hr>\n"
   ]
  },
  {
   "cell_type": "code",
   "execution_count": 1,
   "metadata": {},
   "outputs": [
    {
     "name": "stderr",
     "output_type": "stream",
     "text": [
      "'mamba' is not recognized as an internal or external command,\n",
      "operable program or batch file.\n",
      "'mamba' is not recognized as an internal or external command,\n",
      "operable program or batch file.\n"
     ]
    },
    {
     "name": "stdout",
     "output_type": "stream",
     "text": [
      "Collecting lxml==4.6.4\n",
      "  Downloading lxml-4.6.4.tar.gz (3.2 MB)\n",
      "     ---------------------------------------- 0.0/3.2 MB ? eta -:--:--\n",
      "     ---------------------------------------- 0.0/3.2 MB 660.6 kB/s eta 0:00:05\n",
      "     ---------------------------------------- 0.0/3.2 MB 660.6 kB/s eta 0:00:05\n",
      "     ---------------------------------------- 0.0/3.2 MB 660.6 kB/s eta 0:00:05\n",
      "      --------------------------------------- 0.0/3.2 MB 178.6 kB/s eta 0:00:18\n",
      "      --------------------------------------- 0.1/3.2 MB 234.9 kB/s eta 0:00:14\n",
      "     - -------------------------------------- 0.1/3.2 MB 327.7 kB/s eta 0:00:10\n",
      "     - -------------------------------------- 0.1/3.2 MB 327.7 kB/s eta 0:00:10\n",
      "     - -------------------------------------- 0.1/3.2 MB 285.2 kB/s eta 0:00:11\n",
      "     - -------------------------------------- 0.2/3.2 MB 339.7 kB/s eta 0:00:09\n",
      "     -- ------------------------------------- 0.2/3.2 MB 459.5 kB/s eta 0:00:07\n",
      "     -- ------------------------------------- 0.2/3.2 MB 459.5 kB/s eta 0:00:07\n",
      "     -- ------------------------------------- 0.2/3.2 MB 400.9 kB/s eta 0:00:08\n",
      "     --- ------------------------------------ 0.3/3.2 MB 414.4 kB/s eta 0:00:08\n",
      "     --- ------------------------------------ 0.3/3.2 MB 405.9 kB/s eta 0:00:08\n",
      "     --- ------------------------------------ 0.3/3.2 MB 422.4 kB/s eta 0:00:07\n",
      "     ----- ---------------------------------- 0.4/3.2 MB 518.8 kB/s eta 0:00:06\n",
      "     ----- ---------------------------------- 0.4/3.2 MB 518.8 kB/s eta 0:00:06\n",
      "     ----- ---------------------------------- 0.4/3.2 MB 518.8 kB/s eta 0:00:06\n",
      "     ----- ---------------------------------- 0.4/3.2 MB 518.8 kB/s eta 0:00:06\n",
      "     ----- ---------------------------------- 0.4/3.2 MB 518.8 kB/s eta 0:00:06\n",
      "     ----- ---------------------------------- 0.4/3.2 MB 518.8 kB/s eta 0:00:06\n",
      "     ----- ---------------------------------- 0.4/3.2 MB 518.8 kB/s eta 0:00:06\n",
      "     ----- ---------------------------------- 0.4/3.2 MB 518.8 kB/s eta 0:00:06\n",
      "     ----- ---------------------------------- 0.5/3.2 MB 397.0 kB/s eta 0:00:07\n",
      "     ------ --------------------------------- 0.5/3.2 MB 407.5 kB/s eta 0:00:07\n",
      "     ------- -------------------------------- 0.6/3.2 MB 471.8 kB/s eta 0:00:06\n",
      "     ------- -------------------------------- 0.6/3.2 MB 485.7 kB/s eta 0:00:06\n",
      "     -------- ------------------------------- 0.7/3.2 MB 513.2 kB/s eta 0:00:05\n",
      "     -------- ------------------------------- 0.7/3.2 MB 516.6 kB/s eta 0:00:05\n",
      "     -------- ------------------------------- 0.7/3.2 MB 516.6 kB/s eta 0:00:05\n",
      "     ---------- ----------------------------- 0.8/3.2 MB 551.1 kB/s eta 0:00:05\n",
      "     ------------ --------------------------- 1.0/3.2 MB 642.1 kB/s eta 0:00:04\n",
      "     ------------- -------------------------- 1.1/3.2 MB 674.9 kB/s eta 0:00:04\n",
      "     ------------- -------------------------- 1.1/3.2 MB 674.9 kB/s eta 0:00:04\n",
      "     ------------- -------------------------- 1.1/3.2 MB 674.9 kB/s eta 0:00:04\n",
      "     -------------- ------------------------- 1.1/3.2 MB 661.6 kB/s eta 0:00:04\n",
      "     --------------- ------------------------ 1.2/3.2 MB 684.6 kB/s eta 0:00:03\n",
      "     --------------- ------------------------ 1.2/3.2 MB 684.6 kB/s eta 0:00:03\n",
      "     --------------- ------------------------ 1.2/3.2 MB 684.6 kB/s eta 0:00:03\n",
      "     --------------- ------------------------ 1.2/3.2 MB 684.6 kB/s eta 0:00:03\n",
      "     --------------- ------------------------ 1.2/3.2 MB 684.6 kB/s eta 0:00:03\n",
      "     --------------- ------------------------ 1.2/3.2 MB 684.6 kB/s eta 0:00:03\n",
      "     --------------- ------------------------ 1.2/3.2 MB 684.6 kB/s eta 0:00:03\n",
      "     --------------- ------------------------ 1.2/3.2 MB 684.6 kB/s eta 0:00:03\n",
      "     --------------- ------------------------ 1.2/3.2 MB 684.6 kB/s eta 0:00:03\n",
      "     --------------- ------------------------ 1.2/3.2 MB 684.6 kB/s eta 0:00:03\n",
      "     --------------- ------------------------ 1.2/3.2 MB 684.6 kB/s eta 0:00:03\n",
      "     --------------- ------------------------ 1.2/3.2 MB 684.6 kB/s eta 0:00:03\n",
      "     --------------- ------------------------ 1.2/3.2 MB 684.6 kB/s eta 0:00:03\n",
      "     --------------- ------------------------ 1.2/3.2 MB 684.6 kB/s eta 0:00:03\n",
      "     --------------- ------------------------ 1.2/3.2 MB 684.6 kB/s eta 0:00:03\n",
      "     --------------- ------------------------ 1.2/3.2 MB 684.6 kB/s eta 0:00:03\n",
      "     --------------- ------------------------ 1.3/3.2 MB 493.6 kB/s eta 0:00:04\n",
      "     ------------------- -------------------- 1.6/3.2 MB 596.3 kB/s eta 0:00:03\n",
      "     --------------------- ------------------ 1.7/3.2 MB 647.6 kB/s eta 0:00:03\n",
      "     ---------------------- ----------------- 1.8/3.2 MB 663.3 kB/s eta 0:00:03\n",
      "     ---------------------- ----------------- 1.8/3.2 MB 663.3 kB/s eta 0:00:03\n",
      "     ---------------------- ----------------- 1.8/3.2 MB 644.4 kB/s eta 0:00:03\n",
      "     ----------------------- ---------------- 1.8/3.2 MB 641.1 kB/s eta 0:00:03\n",
      "     ----------------------- ---------------- 1.9/3.2 MB 644.7 kB/s eta 0:00:03\n",
      "     ----------------------- ---------------- 1.9/3.2 MB 644.7 kB/s eta 0:00:03\n",
      "     ------------------------ --------------- 1.9/3.2 MB 645.1 kB/s eta 0:00:02\n",
      "     ------------------------ --------------- 1.9/3.2 MB 645.1 kB/s eta 0:00:02\n",
      "     ------------------------ --------------- 1.9/3.2 MB 645.1 kB/s eta 0:00:02\n",
      "     ------------------------ --------------- 1.9/3.2 MB 645.1 kB/s eta 0:00:02\n",
      "     ------------------------ --------------- 1.9/3.2 MB 645.1 kB/s eta 0:00:02\n",
      "     ------------------------ --------------- 1.9/3.2 MB 645.1 kB/s eta 0:00:02\n",
      "     ------------------------ --------------- 1.9/3.2 MB 645.1 kB/s eta 0:00:02\n",
      "     ------------------------ --------------- 1.9/3.2 MB 645.1 kB/s eta 0:00:02\n",
      "     ------------------------ --------------- 1.9/3.2 MB 645.1 kB/s eta 0:00:02\n",
      "     ------------------------ --------------- 2.0/3.2 MB 576.9 kB/s eta 0:00:03\n",
      "     ------------------------ --------------- 2.0/3.2 MB 576.9 kB/s eta 0:00:03\n",
      "     ------------------------ --------------- 2.0/3.2 MB 576.9 kB/s eta 0:00:03\n",
      "     ------------------------ --------------- 2.0/3.2 MB 576.9 kB/s eta 0:00:03\n",
      "     ------------------------ --------------- 2.0/3.2 MB 576.9 kB/s eta 0:00:03\n",
      "     ------------------------ --------------- 2.0/3.2 MB 576.9 kB/s eta 0:00:03\n",
      "     ------------------------ --------------- 2.0/3.2 MB 576.9 kB/s eta 0:00:03\n",
      "     ------------------------ --------------- 2.0/3.2 MB 576.9 kB/s eta 0:00:03\n",
      "     ------------------------ --------------- 2.0/3.2 MB 576.9 kB/s eta 0:00:03\n",
      "     ------------------------ --------------- 2.0/3.2 MB 576.9 kB/s eta 0:00:03\n",
      "     ------------------------ --------------- 2.0/3.2 MB 576.9 kB/s eta 0:00:03\n",
      "     ------------------------ --------------- 2.0/3.2 MB 576.9 kB/s eta 0:00:03\n",
      "     ------------------------ --------------- 2.0/3.2 MB 576.9 kB/s eta 0:00:03\n",
      "     ------------------------ --------------- 2.0/3.2 MB 576.9 kB/s eta 0:00:03\n",
      "     ------------------------ --------------- 2.0/3.2 MB 576.9 kB/s eta 0:00:03\n",
      "     ------------------------ --------------- 2.0/3.2 MB 576.9 kB/s eta 0:00:03\n",
      "     ------------------------ --------------- 2.0/3.2 MB 576.9 kB/s eta 0:00:03\n",
      "     ------------------------ --------------- 2.0/3.2 MB 576.9 kB/s eta 0:00:03\n",
      "     ------------------------ --------------- 2.0/3.2 MB 576.9 kB/s eta 0:00:03\n",
      "     ------------------------ --------------- 2.0/3.2 MB 576.9 kB/s eta 0:00:03\n",
      "     ------------------------ --------------- 2.0/3.2 MB 576.9 kB/s eta 0:00:03\n",
      "     ------------------------ --------------- 2.0/3.2 MB 576.9 kB/s eta 0:00:03\n",
      "     ------------------------ --------------- 2.0/3.2 MB 576.9 kB/s eta 0:00:03\n",
      "     ------------------------ --------------- 2.0/3.2 MB 576.9 kB/s eta 0:00:03\n",
      "     ------------------------ --------------- 2.0/3.2 MB 576.9 kB/s eta 0:00:03\n",
      "     ------------------------ --------------- 2.0/3.2 MB 576.9 kB/s eta 0:00:03\n",
      "     ------------------------ --------------- 2.0/3.2 MB 576.9 kB/s eta 0:00:03\n",
      "     ------------------------ --------------- 2.0/3.2 MB 576.9 kB/s eta 0:00:03\n",
      "     ------------------------ --------------- 2.0/3.2 MB 576.9 kB/s eta 0:00:03\n",
      "     ------------------------ --------------- 2.0/3.2 MB 576.9 kB/s eta 0:00:03\n",
      "     -------------------------- ------------- 2.1/3.2 MB 438.3 kB/s eta 0:00:03\n",
      "     ------------------------------- -------- 2.5/3.2 MB 510.7 kB/s eta 0:00:02\n",
      "     ------------------------------- -------- 2.5/3.2 MB 510.7 kB/s eta 0:00:02\n",
      "     ------------------------------- -------- 2.5/3.2 MB 510.7 kB/s eta 0:00:02\n",
      "     ------------------------------- -------- 2.5/3.2 MB 510.7 kB/s eta 0:00:02\n",
      "     ---------------------------------- ----- 2.8/3.2 MB 533.9 kB/s eta 0:00:01\n",
      "     ----------------------------------- ---- 2.8/3.2 MB 536.5 kB/s eta 0:00:01\n",
      "     ----------------------------------- ---- 2.8/3.2 MB 537.3 kB/s eta 0:00:01\n",
      "     ----------------------------------- ---- 2.8/3.2 MB 537.3 kB/s eta 0:00:01\n",
      "     ----------------------------------- ---- 2.8/3.2 MB 537.3 kB/s eta 0:00:01\n",
      "     ------------------------------------ --- 2.9/3.2 MB 531.5 kB/s eta 0:00:01\n",
      "     ------------------------------------- -- 3.0/3.2 MB 551.5 kB/s eta 0:00:01\n",
      "     ---------------------------------------  3.1/3.2 MB 569.0 kB/s eta 0:00:01\n",
      "     ---------------------------------------  3.2/3.2 MB 577.0 kB/s eta 0:00:01\n",
      "     ---------------------------------------- 3.2/3.2 MB 572.7 kB/s eta 0:00:00\n",
      "  Preparing metadata (setup.py): started\n",
      "  Preparing metadata (setup.py): finished with status 'done'\n",
      "Building wheels for collected packages: lxml\n",
      "  Building wheel for lxml (setup.py): started\n",
      "  Building wheel for lxml (setup.py): finished with status 'error'\n",
      "  Running setup.py clean for lxml\n",
      "Failed to build lxml\n"
     ]
    },
    {
     "name": "stderr",
     "output_type": "stream",
     "text": [
      "DEPRECATION: Loading egg at c:\\users\\user\\appdata\\local\\packages\\pythonsoftwarefoundation.python.3.11_qbz5n2kfra8p0\\localcache\\local-packages\\python311\\site-packages\\gym-0.26.2-py3.11.egg is deprecated. pip 24.3 will enforce this behaviour change. A possible replacement is to use pip for package installation.. Discussion can be found at https://github.com/pypa/pip/issues/12330\n",
      "DEPRECATION: Loading egg at c:\\users\\user\\appdata\\local\\packages\\pythonsoftwarefoundation.python.3.11_qbz5n2kfra8p0\\localcache\\local-packages\\python311\\site-packages\\mlfromscratch-0.0.4-py3.11.egg is deprecated. pip 24.3 will enforce this behaviour change. A possible replacement is to use pip for package installation.. Discussion can be found at https://github.com/pypa/pip/issues/12330\n",
      "DEPRECATION: Loading egg at c:\\users\\user\\appdata\\local\\packages\\pythonsoftwarefoundation.python.3.11_qbz5n2kfra8p0\\localcache\\local-packages\\python311\\site-packages\\progressbar33-2.4-py3.11.egg is deprecated. pip 24.3 will enforce this behaviour change. A possible replacement is to use pip for package installation.. Discussion can be found at https://github.com/pypa/pip/issues/12330\n",
      "DEPRECATION: Loading egg at c:\\users\\user\\appdata\\local\\packages\\pythonsoftwarefoundation.python.3.11_qbz5n2kfra8p0\\localcache\\local-packages\\python311\\site-packages\\terminaltables-3.1.10-py3.11.egg is deprecated. pip 24.3 will enforce this behaviour change. A possible replacement is to use pip for package installation.. Discussion can be found at https://github.com/pypa/pip/issues/12330\n",
      "  error: subprocess-exited-with-error\n",
      "  \n",
      "  python setup.py bdist_wheel did not run successfully.\n",
      "  exit code: 1\n",
      "  \n",
      "  [74 lines of output]\n",
      "  Building lxml version 4.6.4.\n",
      "  Building without Cython.\n",
      "  Building against pre-built libxml2 andl libxslt libraries\n",
      "  running bdist_wheel\n",
      "  running build\n",
      "  running build_py\n",
      "  creating build\n",
      "  creating build\\lib.win-amd64-cpython-311\n",
      "  creating build\\lib.win-amd64-cpython-311\\lxml\n",
      "  copying src\\lxml\\builder.py -> build\\lib.win-amd64-cpython-311\\lxml\n",
      "  copying src\\lxml\\cssselect.py -> build\\lib.win-amd64-cpython-311\\lxml\n",
      "  copying src\\lxml\\doctestcompare.py -> build\\lib.win-amd64-cpython-311\\lxml\n",
      "  copying src\\lxml\\ElementInclude.py -> build\\lib.win-amd64-cpython-311\\lxml\n",
      "  copying src\\lxml\\pyclasslookup.py -> build\\lib.win-amd64-cpython-311\\lxml\n",
      "  copying src\\lxml\\sax.py -> build\\lib.win-amd64-cpython-311\\lxml\n",
      "  copying src\\lxml\\usedoctest.py -> build\\lib.win-amd64-cpython-311\\lxml\n",
      "  copying src\\lxml\\_elementpath.py -> build\\lib.win-amd64-cpython-311\\lxml\n",
      "  copying src\\lxml\\__init__.py -> build\\lib.win-amd64-cpython-311\\lxml\n",
      "  creating build\\lib.win-amd64-cpython-311\\lxml\\includes\n",
      "  copying src\\lxml\\includes\\__init__.py -> build\\lib.win-amd64-cpython-311\\lxml\\includes\n",
      "  creating build\\lib.win-amd64-cpython-311\\lxml\\html\n",
      "  copying src\\lxml\\html\\builder.py -> build\\lib.win-amd64-cpython-311\\lxml\\html\n",
      "  copying src\\lxml\\html\\clean.py -> build\\lib.win-amd64-cpython-311\\lxml\\html\n",
      "  copying src\\lxml\\html\\defs.py -> build\\lib.win-amd64-cpython-311\\lxml\\html\n",
      "  copying src\\lxml\\html\\diff.py -> build\\lib.win-amd64-cpython-311\\lxml\\html\n",
      "  copying src\\lxml\\html\\ElementSoup.py -> build\\lib.win-amd64-cpython-311\\lxml\\html\n",
      "  copying src\\lxml\\html\\formfill.py -> build\\lib.win-amd64-cpython-311\\lxml\\html\n",
      "  copying src\\lxml\\html\\html5parser.py -> build\\lib.win-amd64-cpython-311\\lxml\\html\n",
      "  copying src\\lxml\\html\\soupparser.py -> build\\lib.win-amd64-cpython-311\\lxml\\html\n",
      "  copying src\\lxml\\html\\usedoctest.py -> build\\lib.win-amd64-cpython-311\\lxml\\html\n",
      "  copying src\\lxml\\html\\_diffcommand.py -> build\\lib.win-amd64-cpython-311\\lxml\\html\n",
      "  copying src\\lxml\\html\\_html5builder.py -> build\\lib.win-amd64-cpython-311\\lxml\\html\n",
      "  copying src\\lxml\\html\\_setmixin.py -> build\\lib.win-amd64-cpython-311\\lxml\\html\n",
      "  copying src\\lxml\\html\\__init__.py -> build\\lib.win-amd64-cpython-311\\lxml\\html\n",
      "  creating build\\lib.win-amd64-cpython-311\\lxml\\isoschematron\n",
      "  copying src\\lxml\\isoschematron\\__init__.py -> build\\lib.win-amd64-cpython-311\\lxml\\isoschematron\n",
      "  copying src\\lxml\\etree.h -> build\\lib.win-amd64-cpython-311\\lxml\n",
      "  copying src\\lxml\\etree_api.h -> build\\lib.win-amd64-cpython-311\\lxml\n",
      "  copying src\\lxml\\lxml.etree.h -> build\\lib.win-amd64-cpython-311\\lxml\n",
      "  copying src\\lxml\\lxml.etree_api.h -> build\\lib.win-amd64-cpython-311\\lxml\n",
      "  copying src\\lxml\\includes\\c14n.pxd -> build\\lib.win-amd64-cpython-311\\lxml\\includes\n",
      "  copying src\\lxml\\includes\\config.pxd -> build\\lib.win-amd64-cpython-311\\lxml\\includes\n",
      "  copying src\\lxml\\includes\\dtdvalid.pxd -> build\\lib.win-amd64-cpython-311\\lxml\\includes\n",
      "  copying src\\lxml\\includes\\etreepublic.pxd -> build\\lib.win-amd64-cpython-311\\lxml\\includes\n",
      "  copying src\\lxml\\includes\\htmlparser.pxd -> build\\lib.win-amd64-cpython-311\\lxml\\includes\n",
      "  copying src\\lxml\\includes\\relaxng.pxd -> build\\lib.win-amd64-cpython-311\\lxml\\includes\n",
      "  copying src\\lxml\\includes\\schematron.pxd -> build\\lib.win-amd64-cpython-311\\lxml\\includes\n",
      "  copying src\\lxml\\includes\\tree.pxd -> build\\lib.win-amd64-cpython-311\\lxml\\includes\n",
      "  copying src\\lxml\\includes\\uri.pxd -> build\\lib.win-amd64-cpython-311\\lxml\\includes\n",
      "  copying src\\lxml\\includes\\xinclude.pxd -> build\\lib.win-amd64-cpython-311\\lxml\\includes\n",
      "  copying src\\lxml\\includes\\xmlerror.pxd -> build\\lib.win-amd64-cpython-311\\lxml\\includes\n",
      "  copying src\\lxml\\includes\\xmlparser.pxd -> build\\lib.win-amd64-cpython-311\\lxml\\includes\n",
      "  copying src\\lxml\\includes\\xmlschema.pxd -> build\\lib.win-amd64-cpython-311\\lxml\\includes\n",
      "  copying src\\lxml\\includes\\xpath.pxd -> build\\lib.win-amd64-cpython-311\\lxml\\includes\n",
      "  copying src\\lxml\\includes\\xslt.pxd -> build\\lib.win-amd64-cpython-311\\lxml\\includes\n",
      "  copying src\\lxml\\includes\\__init__.pxd -> build\\lib.win-amd64-cpython-311\\lxml\\includes\n",
      "  copying src\\lxml\\includes\\etree_defs.h -> build\\lib.win-amd64-cpython-311\\lxml\\includes\n",
      "  copying src\\lxml\\includes\\lxml-version.h -> build\\lib.win-amd64-cpython-311\\lxml\\includes\n",
      "  creating build\\lib.win-amd64-cpython-311\\lxml\\isoschematron\\resources\n",
      "  creating build\\lib.win-amd64-cpython-311\\lxml\\isoschematron\\resources\\rng\n",
      "  copying src\\lxml\\isoschematron\\resources\\rng\\iso-schematron.rng -> build\\lib.win-amd64-cpython-311\\lxml\\isoschematron\\resources\\rng\n",
      "  creating build\\lib.win-amd64-cpython-311\\lxml\\isoschematron\\resources\\xsl\n",
      "  copying src\\lxml\\isoschematron\\resources\\xsl\\RNG2Schtrn.xsl -> build\\lib.win-amd64-cpython-311\\lxml\\isoschematron\\resources\\xsl\n",
      "  copying src\\lxml\\isoschematron\\resources\\xsl\\XSD2Schtrn.xsl -> build\\lib.win-amd64-cpython-311\\lxml\\isoschematron\\resources\\xsl\n",
      "  creating build\\lib.win-amd64-cpython-311\\lxml\\isoschematron\\resources\\xsl\\iso-schematron-xslt1\n",
      "  copying src\\lxml\\isoschematron\\resources\\xsl\\iso-schematron-xslt1\\iso_abstract_expand.xsl -> build\\lib.win-amd64-cpython-311\\lxml\\isoschematron\\resources\\xsl\\iso-schematron-xslt1\n",
      "  copying src\\lxml\\isoschematron\\resources\\xsl\\iso-schematron-xslt1\\iso_dsdl_include.xsl -> build\\lib.win-amd64-cpython-311\\lxml\\isoschematron\\resources\\xsl\\iso-schematron-xslt1\n",
      "  copying src\\lxml\\isoschematron\\resources\\xsl\\iso-schematron-xslt1\\iso_schematron_message.xsl -> build\\lib.win-amd64-cpython-311\\lxml\\isoschematron\\resources\\xsl\\iso-schematron-xslt1\n",
      "  copying src\\lxml\\isoschematron\\resources\\xsl\\iso-schematron-xslt1\\iso_schematron_skeleton_for_xslt1.xsl -> build\\lib.win-amd64-cpython-311\\lxml\\isoschematron\\resources\\xsl\\iso-schematron-xslt1\n",
      "  copying src\\lxml\\isoschematron\\resources\\xsl\\iso-schematron-xslt1\\iso_svrl_for_xslt1.xsl -> build\\lib.win-amd64-cpython-311\\lxml\\isoschematron\\resources\\xsl\\iso-schematron-xslt1\n",
      "  copying src\\lxml\\isoschematron\\resources\\xsl\\iso-schematron-xslt1\\readme.txt -> build\\lib.win-amd64-cpython-311\\lxml\\isoschematron\\resources\\xsl\\iso-schematron-xslt1\n",
      "  running build_ext\n",
      "  building 'lxml.etree' extension\n",
      "  error: Microsoft Visual C++ 14.0 or greater is required. Get it with \"Microsoft C++ Build Tools\": https://visualstudio.microsoft.com/visual-cpp-build-tools/\n",
      "  [end of output]\n",
      "  \n",
      "  note: This error originates from a subprocess, and is likely not a problem with pip.\n",
      "  ERROR: Failed building wheel for lxml\n",
      "ERROR: Could not build wheels for lxml, which is required to install pyproject.toml-based projects\n"
     ]
    }
   ],
   "source": [
    "#!pip install pandas==1.3.3\n",
    "#!pip install requests==2.26.0\n",
    "!mamba install bs4==4.10.0 -y\n",
    "!mamba install html5lib==1.1 -y\n",
    "!pip install lxml==4.6.4\n",
    "#!pip install plotly==5.3.1"
   ]
  },
  {
   "cell_type": "code",
   "execution_count": 1,
   "metadata": {},
   "outputs": [],
   "source": [
    "import pandas as pd\n",
    "import requests\n",
    "from bs4 import BeautifulSoup"
   ]
  },
  {
   "cell_type": "markdown",
   "metadata": {},
   "source": [
    "## Using Webscraping to Extract Stock Data Example\n"
   ]
  },
  {
   "cell_type": "markdown",
   "metadata": {},
   "source": [
    "First we must use the `request` library to downlaod the webpage, and extract the text. We will extract Netflix stock data <https://cf-courses-data.s3.us.cloud-object-storage.appdomain.cloud/IBMDeveloperSkillsNetwork-PY0220EN-SkillsNetwork/labs/project/netflix_data_webpage.html>.\n"
   ]
  },
  {
   "cell_type": "code",
   "execution_count": 2,
   "metadata": {},
   "outputs": [],
   "source": [
    "url = \"https://cf-courses-data.s3.us.cloud-object-storage.appdomain.cloud/IBMDeveloperSkillsNetwork-PY0220EN-SkillsNetwork/labs/project/netflix_data_webpage.html\"\n",
    "\n",
    "data  = requests.get(url).text"
   ]
  },
  {
   "cell_type": "markdown",
   "metadata": {},
   "source": [
    "Next we must parse the text into html using `beautiful_soup`\n"
   ]
  },
  {
   "cell_type": "code",
   "execution_count": 3,
   "metadata": {},
   "outputs": [],
   "source": [
    "soup = BeautifulSoup(data, 'html5lib')"
   ]
  },
  {
   "cell_type": "code",
   "execution_count": 11,
   "metadata": {},
   "outputs": [],
   "source": [
    "netflix_data = pd.DataFrame(columns=[\"Date\", \"Open\", \"High\", \"Low\", \"Close\", \"Volume\"])\n",
    "\n",
    "# First we isolate the body of the table which contains all the information\n",
    "# Then we loop through each row and find all the column values for each row\n",
    "for row in soup.find(\"tbody\").find_all('tr'):\n",
    "    col = row.find_all(\"td\")\n",
    "    date = col[0].text\n",
    "    Open = col[1].text\n",
    "    high = col[2].text\n",
    "    low = col[3].text\n",
    "    close = col[4].text\n",
    "    adj_close = col[5].text\n",
    "    volume = col[6].text\n",
    "    \n",
    "    # Finally we append the data of each row to the table\n",
    "    #netflix_data = netflix_data.append({\"Date\":date, \"Open\":Open, \"High\":high, \"Low\":low, \"Close\":close, \"Adj Close\":adj_close, \"Volume\":volume}, ignore_index=True)\n",
    "    netflix_data = pd.DataFrame(columns=[\"Date\", \"Open\", \"High\", \"Low\", \"Close\", \"Volume\", \"Adj Close\"])"
   ]
  },
  {
   "cell_type": "code",
   "execution_count": 4,
   "metadata": {},
   "outputs": [],
   "source": [
    "import pandas as pd\n",
    "\n",
    "netflix_data = pd.DataFrame(columns=[\"Date\", \"Open\", \"High\", \"Low\", \"Close\", \"Volume\", \"Adj Close\"])\n",
    "\n",
    "# Your scraping and appending code here\n",
    "\n"
   ]
  },
  {
   "cell_type": "code",
   "execution_count": 5,
   "metadata": {},
   "outputs": [
    {
     "data": {
      "text/html": [
       "<div>\n",
       "<style scoped>\n",
       "    .dataframe tbody tr th:only-of-type {\n",
       "        vertical-align: middle;\n",
       "    }\n",
       "\n",
       "    .dataframe tbody tr th {\n",
       "        vertical-align: top;\n",
       "    }\n",
       "\n",
       "    .dataframe thead th {\n",
       "        text-align: right;\n",
       "    }\n",
       "</style>\n",
       "<table border=\"1\" class=\"dataframe\">\n",
       "  <thead>\n",
       "    <tr style=\"text-align: right;\">\n",
       "      <th></th>\n",
       "      <th>Date</th>\n",
       "      <th>Open</th>\n",
       "      <th>High</th>\n",
       "      <th>Low</th>\n",
       "      <th>Close</th>\n",
       "      <th>Volume</th>\n",
       "      <th>Adj Close</th>\n",
       "    </tr>\n",
       "  </thead>\n",
       "  <tbody>\n",
       "  </tbody>\n",
       "</table>\n",
       "</div>"
      ],
      "text/plain": [
       "Empty DataFrame\n",
       "Columns: [Date, Open, High, Low, Close, Volume, Adj Close]\n",
       "Index: []"
      ]
     },
     "execution_count": 5,
     "metadata": {},
     "output_type": "execute_result"
    }
   ],
   "source": [
    "netflix_data.head()"
   ]
  },
  {
   "cell_type": "code",
   "execution_count": 7,
   "metadata": {},
   "outputs": [],
   "source": [
    "#Now we can turn the html table into a pandas dataframe\n"
   ]
  },
  {
   "cell_type": "markdown",
   "metadata": {},
   "source": [
    "We can now print out the dataframe\n"
   ]
  },
  {
   "cell_type": "markdown",
   "metadata": {},
   "source": [
    "We can also use the pandas `read_html` function using the url\n"
   ]
  },
  {
   "cell_type": "code",
   "execution_count": 8,
   "metadata": {},
   "outputs": [],
   "source": [
    "read_html_pandas_data = pd.read_html(url)"
   ]
  },
  {
   "cell_type": "markdown",
   "metadata": {},
   "source": [
    "Or we can convert the BeautifulSoup object to a string\n"
   ]
  },
  {
   "cell_type": "code",
   "execution_count": 9,
   "metadata": {},
   "outputs": [
    {
     "name": "stderr",
     "output_type": "stream",
     "text": [
      "C:\\Users\\User\\AppData\\Local\\Temp\\ipykernel_3960\\1034403826.py:1: FutureWarning: Passing literal html to 'read_html' is deprecated and will be removed in a future version. To read from a literal string, wrap it in a 'StringIO' object.\n",
      "  read_html_pandas_data = pd.read_html(str(soup))\n"
     ]
    }
   ],
   "source": [
    "read_html_pandas_data = pd.read_html(str(soup))"
   ]
  },
  {
   "cell_type": "markdown",
   "metadata": {},
   "source": [
    "Beacause there is only one table on the page, we just take the first table in the list returned\n"
   ]
  },
  {
   "cell_type": "code",
   "execution_count": 10,
   "metadata": {},
   "outputs": [
    {
     "data": {
      "text/html": [
       "<div>\n",
       "<style scoped>\n",
       "    .dataframe tbody tr th:only-of-type {\n",
       "        vertical-align: middle;\n",
       "    }\n",
       "\n",
       "    .dataframe tbody tr th {\n",
       "        vertical-align: top;\n",
       "    }\n",
       "\n",
       "    .dataframe thead th {\n",
       "        text-align: right;\n",
       "    }\n",
       "</style>\n",
       "<table border=\"1\" class=\"dataframe\">\n",
       "  <thead>\n",
       "    <tr style=\"text-align: right;\">\n",
       "      <th></th>\n",
       "      <th>Date</th>\n",
       "      <th>Open</th>\n",
       "      <th>High</th>\n",
       "      <th>Low</th>\n",
       "      <th>Close*</th>\n",
       "      <th>Adj Close**</th>\n",
       "      <th>Volume</th>\n",
       "    </tr>\n",
       "  </thead>\n",
       "  <tbody>\n",
       "    <tr>\n",
       "      <th>0</th>\n",
       "      <td>Jun 01, 2021</td>\n",
       "      <td>504.01</td>\n",
       "      <td>536.13</td>\n",
       "      <td>482.14</td>\n",
       "      <td>528.21</td>\n",
       "      <td>528.21</td>\n",
       "      <td>78560600</td>\n",
       "    </tr>\n",
       "    <tr>\n",
       "      <th>1</th>\n",
       "      <td>May 01, 2021</td>\n",
       "      <td>512.65</td>\n",
       "      <td>518.95</td>\n",
       "      <td>478.54</td>\n",
       "      <td>502.81</td>\n",
       "      <td>502.81</td>\n",
       "      <td>66927600</td>\n",
       "    </tr>\n",
       "    <tr>\n",
       "      <th>2</th>\n",
       "      <td>Apr 01, 2021</td>\n",
       "      <td>529.93</td>\n",
       "      <td>563.56</td>\n",
       "      <td>499.00</td>\n",
       "      <td>513.47</td>\n",
       "      <td>513.47</td>\n",
       "      <td>111573300</td>\n",
       "    </tr>\n",
       "    <tr>\n",
       "      <th>3</th>\n",
       "      <td>Mar 01, 2021</td>\n",
       "      <td>545.57</td>\n",
       "      <td>556.99</td>\n",
       "      <td>492.85</td>\n",
       "      <td>521.66</td>\n",
       "      <td>521.66</td>\n",
       "      <td>90183900</td>\n",
       "    </tr>\n",
       "    <tr>\n",
       "      <th>4</th>\n",
       "      <td>Feb 01, 2021</td>\n",
       "      <td>536.79</td>\n",
       "      <td>566.65</td>\n",
       "      <td>518.28</td>\n",
       "      <td>538.85</td>\n",
       "      <td>538.85</td>\n",
       "      <td>61902300</td>\n",
       "    </tr>\n",
       "  </tbody>\n",
       "</table>\n",
       "</div>"
      ],
      "text/plain": [
       "           Date    Open    High     Low  Close* Adj Close**     Volume\n",
       "0  Jun 01, 2021  504.01  536.13  482.14  528.21      528.21   78560600\n",
       "1  May 01, 2021  512.65  518.95  478.54  502.81      502.81   66927600\n",
       "2  Apr 01, 2021  529.93  563.56  499.00  513.47      513.47  111573300\n",
       "3  Mar 01, 2021  545.57  556.99  492.85  521.66      521.66   90183900\n",
       "4  Feb 01, 2021  536.79  566.65  518.28  538.85      538.85   61902300"
      ]
     },
     "execution_count": 10,
     "metadata": {},
     "output_type": "execute_result"
    }
   ],
   "source": [
    "netflix_dataframe = read_html_pandas_data[0]\n",
    "\n",
    "netflix_dataframe.head()"
   ]
  },
  {
   "cell_type": "markdown",
   "metadata": {},
   "source": [
    "## Using Webscraping to Extract Stock Data Exercise\n"
   ]
  },
  {
   "cell_type": "markdown",
   "metadata": {},
   "source": [
    "Use the `requests` library to download the webpage <https://cf-courses-data.s3.us.cloud-object-storage.appdomain.cloud/IBMDeveloperSkillsNetwork-PY0220EN-SkillsNetwork/labs/project/amazon_data_webpage.html>. Save the text of the response as a variable named `html_data`.\n"
   ]
  },
  {
   "cell_type": "code",
   "execution_count": 11,
   "metadata": {},
   "outputs": [],
   "source": [
    "url=\" https://cf-courses-data.s3.us.cloud-object-storage.appdomain.cloud/IBMDeveloperSkillsNetwork-PY0220EN-SkillsNetwork/labs/project/amazon_data_webpage.html\""
   ]
  },
  {
   "cell_type": "markdown",
   "metadata": {},
   "source": [
    "Parse the html data using `beautiful_soup`.\n"
   ]
  },
  {
   "cell_type": "code",
   "execution_count": 14,
   "metadata": {},
   "outputs": [],
   "source": [
    "data  = requests.get(url).text\n",
    "soup = BeautifulSoup(data, 'html5lib')"
   ]
  },
  {
   "cell_type": "markdown",
   "metadata": {},
   "source": [
    "<b>Question 1</b> What is the content of the title attribute:\n"
   ]
  },
  {
   "cell_type": "code",
   "execution_count": null,
   "metadata": {},
   "outputs": [],
   "source": []
  },
  {
   "cell_type": "markdown",
   "metadata": {},
   "source": [
    "Using beautiful soup extract the table with historical share prices and store it into a dataframe named `amazon_data`. The dataframe should have columns Date, Open, High, Low, Close, Adj Close, and Volume. Fill in each variable with the correct data from the list `col`.\n"
   ]
  },
  {
   "cell_type": "code",
   "execution_count": 17,
   "metadata": {},
   "outputs": [],
   "source": [
    "import pandas as pd\n",
    "\n",
    "# Assuming soup is your BeautifulSoup object\n",
    "amazon_data = pd.DataFrame(columns=[\"Date\", \"Open\", \"High\", \"Low\", \"Close\", \"Volume\"])\n",
    "\n",
    "for row in soup.find(\"tbody\").find_all(\"tr\"):\n",
    "    col = row.find_all(\"td\")\n",
    "    date = col[0].text\n",
    "    Open = col[1].text\n",
    "    high = col[2].text\n",
    "    low = col[3].text\n",
    "    close = col[4].text\n",
    "    adj_close = col[5].text\n",
    "    volume = col[6].text\n",
    "    \n",
    "    amazon_data = pd.DataFrame(columns=[\"Date\", \"Open\", \"High\", \"Low\", \"Close\", \"Adj Close\", \"Volume\"])\n",
    "\n"
   ]
  },
  {
   "cell_type": "markdown",
   "metadata": {},
   "source": [
    "Print out the first five rows of the `amazon_data` dataframe you created.\n"
   ]
  },
  {
   "cell_type": "code",
   "execution_count": 19,
   "metadata": {},
   "outputs": [
    {
     "data": {
      "text/html": [
       "<div>\n",
       "<style scoped>\n",
       "    .dataframe tbody tr th:only-of-type {\n",
       "        vertical-align: middle;\n",
       "    }\n",
       "\n",
       "    .dataframe tbody tr th {\n",
       "        vertical-align: top;\n",
       "    }\n",
       "\n",
       "    .dataframe thead th {\n",
       "        text-align: right;\n",
       "    }\n",
       "</style>\n",
       "<table border=\"1\" class=\"dataframe\">\n",
       "  <thead>\n",
       "    <tr style=\"text-align: right;\">\n",
       "      <th></th>\n",
       "      <th>Date</th>\n",
       "      <th>Open</th>\n",
       "      <th>High</th>\n",
       "      <th>Low</th>\n",
       "      <th>Close*</th>\n",
       "      <th>Adj Close**</th>\n",
       "      <th>Volume</th>\n",
       "    </tr>\n",
       "  </thead>\n",
       "  <tbody>\n",
       "    <tr>\n",
       "      <th>0</th>\n",
       "      <td>Jun 01, 2021</td>\n",
       "      <td>504.01</td>\n",
       "      <td>536.13</td>\n",
       "      <td>482.14</td>\n",
       "      <td>528.21</td>\n",
       "      <td>528.21</td>\n",
       "      <td>78560600</td>\n",
       "    </tr>\n",
       "    <tr>\n",
       "      <th>1</th>\n",
       "      <td>May 01, 2021</td>\n",
       "      <td>512.65</td>\n",
       "      <td>518.95</td>\n",
       "      <td>478.54</td>\n",
       "      <td>502.81</td>\n",
       "      <td>502.81</td>\n",
       "      <td>66927600</td>\n",
       "    </tr>\n",
       "    <tr>\n",
       "      <th>2</th>\n",
       "      <td>Apr 01, 2021</td>\n",
       "      <td>529.93</td>\n",
       "      <td>563.56</td>\n",
       "      <td>499.00</td>\n",
       "      <td>513.47</td>\n",
       "      <td>513.47</td>\n",
       "      <td>111573300</td>\n",
       "    </tr>\n",
       "    <tr>\n",
       "      <th>3</th>\n",
       "      <td>Mar 01, 2021</td>\n",
       "      <td>545.57</td>\n",
       "      <td>556.99</td>\n",
       "      <td>492.85</td>\n",
       "      <td>521.66</td>\n",
       "      <td>521.66</td>\n",
       "      <td>90183900</td>\n",
       "    </tr>\n",
       "    <tr>\n",
       "      <th>4</th>\n",
       "      <td>Feb 01, 2021</td>\n",
       "      <td>536.79</td>\n",
       "      <td>566.65</td>\n",
       "      <td>518.28</td>\n",
       "      <td>538.85</td>\n",
       "      <td>538.85</td>\n",
       "      <td>61902300</td>\n",
       "    </tr>\n",
       "  </tbody>\n",
       "</table>\n",
       "</div>"
      ],
      "text/plain": [
       "           Date    Open    High     Low  Close* Adj Close**     Volume\n",
       "0  Jun 01, 2021  504.01  536.13  482.14  528.21      528.21   78560600\n",
       "1  May 01, 2021  512.65  518.95  478.54  502.81      502.81   66927600\n",
       "2  Apr 01, 2021  529.93  563.56  499.00  513.47      513.47  111573300\n",
       "3  Mar 01, 2021  545.57  556.99  492.85  521.66      521.66   90183900\n",
       "4  Feb 01, 2021  536.79  566.65  518.28  538.85      538.85   61902300"
      ]
     },
     "execution_count": 19,
     "metadata": {},
     "output_type": "execute_result"
    }
   ],
   "source": [
    "amazon_dataframe = read_html_pandas_data[0]\n",
    "\n",
    "amazon_dataframe.head()"
   ]
  },
  {
   "cell_type": "markdown",
   "metadata": {},
   "source": [
    "<h2>About the Authors:</h2> \n",
    "\n",
    "<a href=\"https://www.linkedin.com/in/joseph-s-50398b136/?utm_medium=Exinfluencer&utm_source=Exinfluencer&utm_content=000026UJ&utm_term=10006555&utm_id=NA-SkillsNetwork-Channel-SkillsNetworkCoursesIBMDeveloperSkillsNetworkPY0220ENSkillsNetwork900-2022-01-01\">Joseph Santarcangelo</a> has a PhD in Electrical Engineering, his research focused on using machine learning, signal processing, and computer vision to determine how videos impact human cognition. Joseph has been working for IBM since he completed his PhD.\n",
    "\n",
    "Azim Hirjani\n"
   ]
  },
  {
   "cell_type": "markdown",
   "metadata": {},
   "source": [
    "## Change Log\n",
    "\n",
    "| Date (YYYY-MM-DD) | Version | Changed By | Change Description |\n",
    "| ----------------- | ------- | ---------- | ------------------ |\n",
    "\n",
    "```\n",
    "| 2021-06-09       | 1.2     | Lakshmi Holla|Added URL in question 3 |\n",
    "```\n",
    "\n",
    "\\| 2020-11-10        | 1.1     | Malika Singla | Deleted the Optional part |\n",
    "\\| 2020-08-27        | 1.0     | Malika Singla | Added lab to GitLab       |\n",
    "\n",
    "<hr>\n",
    "\n",
    "## <h3 align=\"center\"> © IBM Corporation 2020. All rights reserved. <h3/>\n",
    "\n",
    "<p>\n"
   ]
  }
 ],
 "metadata": {
  "kernelspec": {
   "display_name": "Python 3 (ipykernel)",
   "language": "python",
   "name": "python3"
  },
  "language_info": {
   "codemirror_mode": {
    "name": "ipython",
    "version": 3
   },
   "file_extension": ".py",
   "mimetype": "text/x-python",
   "name": "python",
   "nbconvert_exporter": "python",
   "pygments_lexer": "ipython3",
   "version": "3.11.8"
  }
 },
 "nbformat": 4,
 "nbformat_minor": 4
}
